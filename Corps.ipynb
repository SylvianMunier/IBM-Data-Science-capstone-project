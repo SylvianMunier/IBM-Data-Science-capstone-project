{
 "cells": [
  {
   "cell_type": "markdown",
   "metadata": {},
   "source": [
    "# Import"
   ]
  },
  {
   "cell_type": "markdown",
   "metadata": {},
   "source": [
    "## Python"
   ]
  },
  {
   "cell_type": "code",
   "execution_count": 1,
   "metadata": {},
   "outputs": [],
   "source": [
    "import numpy as np\n",
    "import pandas as pd\n",
    "import matplotlib.pyplot as plt\n",
    "import sklearn as skl\n",
    "\n",
    "\n",
    "from sklearn.model_selection import GridSearchCV\n",
    "from sklearn.model_selection import train_test_split\n",
    "from sklearn.ensemble        import RandomForestClassifier\n",
    "from sklearn.model_selection import cross_val_score\n",
    "from sklearn.metrics import *\n",
    "\n",
    "\n",
    "#Tricks to not show directory adress because of warnings, for final release\n",
    "import warnings\n",
    "from sklearn.exceptions import DataConversionWarning\n",
    "warnings.filterwarnings(action='ignore', category=DataConversionWarning)"
   ]
  },
  {
   "cell_type": "markdown",
   "metadata": {},
   "source": [
    "## Data"
   ]
  },
  {
   "cell_type": "code",
   "execution_count": 2,
   "metadata": {},
   "outputs": [
    {
     "name": "stderr",
     "output_type": "stream",
     "text": [
      "C:\\Users\\Sylvian\\Anaconda3\\lib\\site-packages\\IPython\\core\\interactiveshell.py:3049: DtypeWarning: Columns (33) have mixed types. Specify dtype option on import or set low_memory=False.\n",
      "  interactivity=interactivity, compiler=compiler, result=result)\n"
     ]
    }
   ],
   "source": [
    "url = 'https://raw.githubusercontent.com/SylvianMunier/IBM-Data-Science-capstone-project/master/Data-Collisions.csv'\n",
    "df = pd.read_csv(url)"
   ]
  },
  {
   "cell_type": "markdown",
   "metadata": {},
   "source": [
    "# Data cleaning "
   ]
  },
  {
   "cell_type": "code",
   "execution_count": 17,
   "metadata": {},
   "outputs": [
    {
     "name": "stdout",
     "output_type": "stream",
     "text": [
      "   SEVERITYCODE ROADCOND                LIGHTCOND  \\\n",
      "0             2      Wet                 Daylight   \n",
      "1             1      Wet  Dark - Street Lights On   \n",
      "2             1      Dry                 Daylight   \n",
      "3             1      Dry                 Daylight   \n",
      "4             2      Wet                 Daylight   \n",
      "\n",
      "                              JUNCTIONTYPE  \n",
      "0   At Intersection (intersection related)  \n",
      "1  Mid-Block (not related to intersection)  \n",
      "2  Mid-Block (not related to intersection)  \n",
      "3  Mid-Block (not related to intersection)  \n",
      "4   At Intersection (intersection related)  \n",
      "   SEVERITYCODE ROADCOND                LIGHTCOND  \\\n",
      "0             2      Wet                 Daylight   \n",
      "1             1      Wet  Dark - Street Lights On   \n",
      "2             1      Dry                 Daylight   \n",
      "3             1      Dry                 Daylight   \n",
      "4             2      Wet                 Daylight   \n",
      "\n",
      "                              JUNCTIONTYPE  \n",
      "0   At Intersection (intersection related)  \n",
      "1  Mid-Block (not related to intersection)  \n",
      "2  Mid-Block (not related to intersection)  \n",
      "3  Mid-Block (not related to intersection)  \n",
      "4   At Intersection (intersection related)  \n"
     ]
    }
   ],
   "source": [
    "# After some work on rough draft and analysis of the metadata, the following decision were made:\n",
    "# Keeping the column of interest:\n",
    "df_kept = df[[\"SEVERITYCODE\",\"ROADCOND\",\"LIGHTCOND\",\"JUNCTIONTYPE\"]]\n",
    "\n",
    "#Cleaning unusable lines:\n",
    "#Concerning the road condition:\n",
    "#For eventual need, every step is kept and saved into a special data frame.\n",
    "df2 = df_kept\n",
    "df3 = df2[(df2[\"ROADCOND\"]==\"Dry\")|(df2[\"ROADCOND\"]==\"Wet\") |\\\n",
    "          (df2[\"ROADCOND\"]==\"Ice\")|(df2[\"ROADCOND\"]==\"Snow/Slush\") | (df2[\"ROADCOND\"]==\"Standing Water\")]\n",
    "\n",
    "#Concerning the light condition:\n",
    "df4 = df3[(df3[\"LIGHTCOND\"]==\"Daylight\") | (df3[\"LIGHTCOND\"]==\"Dark - Street Lights On\") | \\\n",
    "          (df3[\"LIGHTCOND\"]==\"Dusk\") | (df3[\"LIGHTCOND\"]==\"Dawn\") | (df3[\"LIGHTCOND\"]==\"Dark - No Street Lights\") |\\\n",
    "          (df3[\"LIGHTCOND\"]==\"Dark Street Lights Off\")]\n",
    "\n",
    "#Concerning the junction type:\n",
    "df_cleaned = df4[(df4[\"JUNCTIONTYPE\"]==\"Mid-Block (not related to intersection)\") | \\\n",
    "        (df4[\"JUNCTIONTYPE\"]==\"At Intersection (intersection related)\") | \\\n",
    "        (df4[\"JUNCTIONTYPE\"]==\"Mid-Block (but intersection related)\") | \\\n",
    "        (df4[\"JUNCTIONTYPE\"]==\"Driveway Junction\") | \\\n",
    "        (df4[\"JUNCTIONTYPE\"]==\"At Intersection (but not related to intersection)\") | \\\n",
    "        (df4[\"JUNCTIONTYPE\"]==\"Ramp Junction\")]\n",
    "\n",
    "df_cleaned.to_csv(r'C:\\Users\\Sylvian\\Documents\\GitHub\\IBM-Data-Science-capstone-project\\DataCleaned.csv',index=False)\n",
    "test = pd.read_csv(r'C:\\Users\\Sylvian\\Documents\\GitHub\\IBM-Data-Science-capstone-project\\DataCleaned.csv')\n",
    "print(test.head())\n",
    "print(df_cleaned.head())"
   ]
  },
  {
   "cell_type": "markdown",
   "metadata": {},
   "source": [
    "# Analysis"
   ]
  },
  {
   "cell_type": "markdown",
   "metadata": {},
   "source": [
    "## Transforming data set into numerical only data"
   ]
  },
  {
   "cell_type": "code",
   "execution_count": null,
   "metadata": {},
   "outputs": [],
   "source": []
  },
  {
   "cell_type": "code",
   "execution_count": 4,
   "metadata": {
    "scrolled": true
   },
   "outputs": [
    {
     "data": {
      "text/html": [
       "<div>\n",
       "<style scoped>\n",
       "    .dataframe tbody tr th:only-of-type {\n",
       "        vertical-align: middle;\n",
       "    }\n",
       "\n",
       "    .dataframe tbody tr th {\n",
       "        vertical-align: top;\n",
       "    }\n",
       "\n",
       "    .dataframe thead th {\n",
       "        text-align: right;\n",
       "    }\n",
       "</style>\n",
       "<table border=\"1\" class=\"dataframe\">\n",
       "  <thead>\n",
       "    <tr style=\"text-align: right;\">\n",
       "      <th></th>\n",
       "      <th>index</th>\n",
       "      <th>ROADCOND</th>\n",
       "    </tr>\n",
       "  </thead>\n",
       "  <tbody>\n",
       "    <tr>\n",
       "      <th>1</th>\n",
       "      <td>Dry</td>\n",
       "      <td>119728</td>\n",
       "    </tr>\n",
       "    <tr>\n",
       "      <th>2</th>\n",
       "      <td>Wet</td>\n",
       "      <td>45675</td>\n",
       "    </tr>\n",
       "    <tr>\n",
       "      <th>3</th>\n",
       "      <td>Ice</td>\n",
       "      <td>1107</td>\n",
       "    </tr>\n",
       "    <tr>\n",
       "      <th>4</th>\n",
       "      <td>Snow/Slush</td>\n",
       "      <td>840</td>\n",
       "    </tr>\n",
       "    <tr>\n",
       "      <th>5</th>\n",
       "      <td>Standing Water</td>\n",
       "      <td>104</td>\n",
       "    </tr>\n",
       "  </tbody>\n",
       "</table>\n",
       "</div>"
      ],
      "text/plain": [
       "            index  ROADCOND\n",
       "1             Dry    119728\n",
       "2             Wet     45675\n",
       "3             Ice      1107\n",
       "4      Snow/Slush       840\n",
       "5  Standing Water       104"
      ]
     },
     "execution_count": 4,
     "metadata": {},
     "output_type": "execute_result"
    }
   ],
   "source": [
    "#For later use, the data frame of road condition is  kept as an image. \n",
    "#We will use them to recall later what every numerical value refers to. \n",
    "#(KNN needs to have only numerical values, so text will be replaced by numbers)\n",
    "df_road_con_conv = df_cleaned[\"ROADCOND\"].value_counts().to_frame().reset_index()\n",
    "df_road_con_conv.index+=1\n",
    "df_road_con_conv"
   ]
  },
  {
   "cell_type": "code",
   "execution_count": 5,
   "metadata": {},
   "outputs": [
    {
     "data": {
      "text/html": [
       "<div>\n",
       "<style scoped>\n",
       "    .dataframe tbody tr th:only-of-type {\n",
       "        vertical-align: middle;\n",
       "    }\n",
       "\n",
       "    .dataframe tbody tr th {\n",
       "        vertical-align: top;\n",
       "    }\n",
       "\n",
       "    .dataframe thead th {\n",
       "        text-align: right;\n",
       "    }\n",
       "</style>\n",
       "<table border=\"1\" class=\"dataframe\">\n",
       "  <thead>\n",
       "    <tr style=\"text-align: right;\">\n",
       "      <th></th>\n",
       "      <th>index</th>\n",
       "      <th>LIGHTCOND</th>\n",
       "    </tr>\n",
       "  </thead>\n",
       "  <tbody>\n",
       "    <tr>\n",
       "      <th>1</th>\n",
       "      <td>Daylight</td>\n",
       "      <td>111583</td>\n",
       "    </tr>\n",
       "    <tr>\n",
       "      <th>2</th>\n",
       "      <td>Dark - Street Lights On</td>\n",
       "      <td>46481</td>\n",
       "    </tr>\n",
       "    <tr>\n",
       "      <th>3</th>\n",
       "      <td>Dusk</td>\n",
       "      <td>5623</td>\n",
       "    </tr>\n",
       "    <tr>\n",
       "      <th>4</th>\n",
       "      <td>Dawn</td>\n",
       "      <td>2391</td>\n",
       "    </tr>\n",
       "    <tr>\n",
       "      <th>5</th>\n",
       "      <td>Dark - No Street Lights</td>\n",
       "      <td>1376</td>\n",
       "    </tr>\n",
       "  </tbody>\n",
       "</table>\n",
       "</div>"
      ],
      "text/plain": [
       "                     index  LIGHTCOND\n",
       "1                 Daylight     111583\n",
       "2  Dark - Street Lights On      46481\n",
       "3                     Dusk       5623\n",
       "4                     Dawn       2391\n",
       "5  Dark - No Street Lights       1376"
      ]
     },
     "execution_count": 5,
     "metadata": {},
     "output_type": "execute_result"
    }
   ],
   "source": [
    "df_light_conv = df_cleaned[\"LIGHTCOND\"].value_counts().to_frame().reset_index()\n",
    "df_light_conv.index+=1\n",
    "df_light_conv"
   ]
  },
  {
   "cell_type": "code",
   "execution_count": 6,
   "metadata": {},
   "outputs": [
    {
     "data": {
      "text/html": [
       "<div>\n",
       "<style scoped>\n",
       "    .dataframe tbody tr th:only-of-type {\n",
       "        vertical-align: middle;\n",
       "    }\n",
       "\n",
       "    .dataframe tbody tr th {\n",
       "        vertical-align: top;\n",
       "    }\n",
       "\n",
       "    .dataframe thead th {\n",
       "        text-align: right;\n",
       "    }\n",
       "</style>\n",
       "<table border=\"1\" class=\"dataframe\">\n",
       "  <thead>\n",
       "    <tr style=\"text-align: right;\">\n",
       "      <th></th>\n",
       "      <th>index</th>\n",
       "      <th>JUNCTIONTYPE</th>\n",
       "    </tr>\n",
       "  </thead>\n",
       "  <tbody>\n",
       "    <tr>\n",
       "      <th>1</th>\n",
       "      <td>Mid-Block (not related to intersection)</td>\n",
       "      <td>74984</td>\n",
       "    </tr>\n",
       "    <tr>\n",
       "      <th>2</th>\n",
       "      <td>At Intersection (intersection related)</td>\n",
       "      <td>59343</td>\n",
       "    </tr>\n",
       "    <tr>\n",
       "      <th>3</th>\n",
       "      <td>Mid-Block (but intersection related)</td>\n",
       "      <td>21198</td>\n",
       "    </tr>\n",
       "    <tr>\n",
       "      <th>4</th>\n",
       "      <td>Driveway Junction</td>\n",
       "      <td>9982</td>\n",
       "    </tr>\n",
       "    <tr>\n",
       "      <th>5</th>\n",
       "      <td>At Intersection (but not related to intersection)</td>\n",
       "      <td>1794</td>\n",
       "    </tr>\n",
       "    <tr>\n",
       "      <th>6</th>\n",
       "      <td>Ramp Junction</td>\n",
       "      <td>153</td>\n",
       "    </tr>\n",
       "  </tbody>\n",
       "</table>\n",
       "</div>"
      ],
      "text/plain": [
       "                                               index  JUNCTIONTYPE\n",
       "1            Mid-Block (not related to intersection)         74984\n",
       "2             At Intersection (intersection related)         59343\n",
       "3               Mid-Block (but intersection related)         21198\n",
       "4                                  Driveway Junction          9982\n",
       "5  At Intersection (but not related to intersection)          1794\n",
       "6                                      Ramp Junction           153"
      ]
     },
     "execution_count": 6,
     "metadata": {},
     "output_type": "execute_result"
    }
   ],
   "source": [
    "df_junction_conv = df_cleaned[\"JUNCTIONTYPE\"].value_counts().to_frame().reset_index()\n",
    "df_junction_conv.index+=1\n",
    "df_junction_conv"
   ]
  },
  {
   "cell_type": "code",
   "execution_count": 7,
   "metadata": {},
   "outputs": [
    {
     "data": {
      "text/html": [
       "<div>\n",
       "<style scoped>\n",
       "    .dataframe tbody tr th:only-of-type {\n",
       "        vertical-align: middle;\n",
       "    }\n",
       "\n",
       "    .dataframe tbody tr th {\n",
       "        vertical-align: top;\n",
       "    }\n",
       "\n",
       "    .dataframe thead th {\n",
       "        text-align: right;\n",
       "    }\n",
       "</style>\n",
       "<table border=\"1\" class=\"dataframe\">\n",
       "  <thead>\n",
       "    <tr style=\"text-align: right;\">\n",
       "      <th></th>\n",
       "      <th>SEVERITYCODE</th>\n",
       "      <th>ROADCOND</th>\n",
       "      <th>LIGHTCOND</th>\n",
       "      <th>JUNCTIONTYPE</th>\n",
       "    </tr>\n",
       "  </thead>\n",
       "  <tbody>\n",
       "    <tr>\n",
       "      <th>0</th>\n",
       "      <td>2</td>\n",
       "      <td>2</td>\n",
       "      <td>1</td>\n",
       "      <td>2</td>\n",
       "    </tr>\n",
       "    <tr>\n",
       "      <th>1</th>\n",
       "      <td>1</td>\n",
       "      <td>2</td>\n",
       "      <td>2</td>\n",
       "      <td>1</td>\n",
       "    </tr>\n",
       "    <tr>\n",
       "      <th>2</th>\n",
       "      <td>1</td>\n",
       "      <td>1</td>\n",
       "      <td>1</td>\n",
       "      <td>1</td>\n",
       "    </tr>\n",
       "    <tr>\n",
       "      <th>3</th>\n",
       "      <td>1</td>\n",
       "      <td>1</td>\n",
       "      <td>1</td>\n",
       "      <td>1</td>\n",
       "    </tr>\n",
       "    <tr>\n",
       "      <th>4</th>\n",
       "      <td>2</td>\n",
       "      <td>2</td>\n",
       "      <td>1</td>\n",
       "      <td>2</td>\n",
       "    </tr>\n",
       "  </tbody>\n",
       "</table>\n",
       "</div>"
      ],
      "text/plain": [
       "   SEVERITYCODE  ROADCOND  LIGHTCOND  JUNCTIONTYPE\n",
       "0             2         2          1             2\n",
       "1             1         2          2             1\n",
       "2             1         1          1             1\n",
       "3             1         1          1             1\n",
       "4             2         2          1             2"
      ]
     },
     "execution_count": 7,
     "metadata": {},
     "output_type": "execute_result"
    }
   ],
   "source": [
    "#Replacing text by numerical values\n",
    "\n",
    "df_cleaned = df_cleaned.replace({\"ROADCOND\" : { \"Dry\" : 1, \"Wet\" : 2, \"Ice\" : 3, \"Snow/Slush\" : 4, \"Standing Water\" : 5 }})\n",
    "df_cleaned = df_cleaned.replace({\"LIGHTCOND\" : { \"Daylight\" : 1, \"Dark - Street Lights On\" : 2, \"Dusk\" : 3, \"Dawn\" : 4, \"Dark - No Street Lights\" : 5 }})\n",
    "df_cleaned = df_cleaned.replace({\"JUNCTIONTYPE\" : { \"Mid-Block (not related to intersection)\" : 1, \"At Intersection (intersection related)\" : 2, \"Mid-Block (but intersection related)\" : 3, \"Driveway Junction\" : 4, \"At Intersection (but not related to intersection)\" : 5, \"Ramp Junction\" : 6 }})\n",
    "\n",
    "df_cleaned.head()"
   ]
  },
  {
   "cell_type": "markdown",
   "metadata": {},
   "source": [
    "## Separating training data and testing data"
   ]
  },
  {
   "cell_type": "code",
   "execution_count": 8,
   "metadata": {},
   "outputs": [
    {
     "name": "stdout",
     "output_type": "stream",
     "text": [
      "X\n",
      "    ROADCOND  LIGHTCOND  JUNCTIONTYPE\n",
      "0         2          1             2\n",
      "1         2          2             1\n",
      "2         1          1             1\n",
      "3         1          1             1\n",
      "4         2          1             2 \n",
      "y\n",
      " [2 1 1 1 2]\n"
     ]
    }
   ],
   "source": [
    "#Initializing variable for the model\n",
    "X = df_cleaned.drop([\"SEVERITYCODE\"],axis=1)\n",
    "y = df_cleaned[\"SEVERITYCODE\"].values\n",
    "\n",
    "print(\"X\\n\",X.head(),\"\\ny\\n\",y[0:5])"
   ]
  },
  {
   "cell_type": "code",
   "execution_count": 9,
   "metadata": {},
   "outputs": [
    {
     "name": "stdout",
     "output_type": "stream",
     "text": [
      "X_train size is  (133963, 3) \n",
      " X_test size is  (33491, 3) \n",
      " y_train size is  (133963,) \n",
      " y_test size is  (33491,)\n"
     ]
    }
   ],
   "source": [
    "#Might want to allocate 70%:train 15%:validation 15%:test. Might also want to validate that between 80% train and 20% test without validate, also try different percentage\n",
    "#Peut-être pas nécessaire avec du cross-validation like k-fold ? ==> faire une comparaison également\n",
    "\n",
    "X_train, X_test, y_train, y_test = train_test_split(X, y, test_size=0.2, random_state=4)\n",
    "print(\"X_train size is \", X_train.shape, \"\\n\", \"X_test size is \", X_test.shape, \"\\n\",\n",
    "      \"y_train size is \", y_train.shape, \"\\n\", \"y_test size is \", y_test.shape)\n",
    "\n",
    "X_train = preprocessing.StandardScaler().fit(X_train).transform(X_train.astype(float))\n",
    "\n",
    "X_test = preprocessing.StandardScaler().fit(X_test).transform(X_test.astype(float))"
   ]
  },
  {
   "cell_type": "markdown",
   "metadata": {},
   "source": [
    "## K-Nearest Neighbours analysis"
   ]
  },
  {
   "cell_type": "code",
   "execution_count": 10,
   "metadata": {},
   "outputs": [],
   "source": [
    "Ks = 10   \n",
    "mean_acc = np.zeros((Ks-1))\n",
    "std_acc = np.zeros((Ks-1))\n",
    "ConfustionMx = [];\n",
    "for n in range(1,Ks):\n",
    "    \n",
    "    #Train Model and Predict  \n",
    "    neigh = skl.neighbors.KNeighborsClassifier(n_neighbors = n).fit(X_train,y_train)\n",
    "    yhat=neigh.predict(X_test)\n",
    "    mean_acc[n-1] = metrics.accuracy_score(y_test, yhat)\n",
    "\n",
    "    \n",
    "    std_acc[n-1]=np.std(yhat==y_test)/np.sqrt(yhat.shape[0])"
   ]
  },
  {
   "cell_type": "code",
   "execution_count": 11,
   "metadata": {},
   "outputs": [
    {
     "data": {
      "image/png": "[encoded data removed]",
      "text/plain": [
       "<Figure size 432x288 with 1 Axes>"
      ]
     },
     "metadata": {
      "needs_background": "light"
     },
     "output_type": "display_data"
    },
    {
     "name": "stdout",
     "output_type": "stream",
     "text": [
      "The best accuracy was with 0.663820130781404 with k= 8\n"
     ]
    }
   ],
   "source": [
    "plt.plot(range(1,Ks),mean_acc,'g')\n",
    "plt.fill_between(range(1,Ks),mean_acc - 1 * std_acc,mean_acc + 1 * std_acc, alpha=0.10)\n",
    "plt.legend(('Accuracy ', '+/- 3xstd'))\n",
    "plt.ylabel('Accuracy ')\n",
    "plt.xlabel('Number of Neighbors (K)')\n",
    "plt.tight_layout()\n",
    "plt.show()\n",
    "\n",
    "print( \"The best accuracy was with\", mean_acc.max(), \"with k=\", mean_acc.argmax()+1) "
   ]
  },
  {
   "cell_type": "code",
   "execution_count": 12,
   "metadata": {},
   "outputs": [
    {
     "name": "stdout",
     "output_type": "stream",
     "text": [
      "The accuracy with k=8 is 0.664\n"
     ]
    }
   ],
   "source": [
    "#The predictive algorithm, you can modify the code to add a scan() function to let the user enter its own data\n",
    "neigh = skl.neighbors.KNeighborsClassifier(n_neighbors = 8).fit(X_train,y_train)\n",
    "yhat=neigh.predict(X_test)\n",
    "mean_acc[n-1] = metrics.accuracy_score(y_test, yhat)\n",
    "print(\"The accuracy with k=8 is %0.3f\" %mean_acc.max())"
   ]
  },
  {
   "cell_type": "code",
   "execution_count": 13,
   "metadata": {},
   "outputs": [
    {
     "name": "stdout",
     "output_type": "stream",
     "text": [
      "The accuracy with k=4 is 0.664\n"
     ]
    }
   ],
   "source": [
    "#As 4 neighbours seems close, we also try this one\n",
    "neigh = skl.neighbors.KNeighborsClassifier(n_neighbors = 4).fit(X_train,y_train)\n",
    "yhat=neigh.predict(X_test)\n",
    "mean_acc[n-1] = metrics.accuracy_score(y_test, yhat)\n",
    "print(\"The accuracy with k=4 is %0.3f\" %mean_acc.max())"
   ]
  },
  {
   "cell_type": "markdown",
   "metadata": {},
   "source": [
    "## Random Forest"
   ]
  },
  {
   "cell_type": "code",
   "execution_count": 34,
   "metadata": {},
   "outputs": [
    {
     "name": "stdout",
     "output_type": "stream",
     "text": [
      "Fitting 5 folds for each of 12 candidates, totalling 60 fits\n"
     ]
    },
    {
     "name": "stderr",
     "output_type": "stream",
     "text": [
      "[Parallel(n_jobs=-1)]: Using backend LokyBackend with 8 concurrent workers.\n",
      "[Parallel(n_jobs=-1)]: Done  16 tasks      | elapsed:   29.4s\n",
      "[Parallel(n_jobs=-1)]: Done  60 out of  60 | elapsed:  1.7min finished\n"
     ]
    },
    {
     "name": "stdout",
     "output_type": "stream",
     "text": [
      "[0.66980174 0.66971217 0.66963273 0.66981188 0.66915497]\n"
     ]
    }
   ],
   "source": [
    "# Réécrire ça\n",
    "#def rfr_model(X, y):\n",
    "# Perform Grid-Search\n",
    " #   gsc = GridSearchCV(\n",
    "  #      estimator=RandomForestRegressor(),\n",
    "   #     param_grid={\n",
    "    #        'max_depth': range(3,7),#change to none\n",
    "     #       'n_estimators': (10, 50, 100, 1000),#change with my algorithm\n",
    "      #  },\n",
    "       # cv=5, scoring='neg_mean_squared_error', verbose=0, n_jobs=-1)#Vérifier ça\n",
    "    \n",
    "#    grid_result = gsc.fit(X, y)\n",
    " #   best_params = grid_result.best_params_\n",
    "    \n",
    "  #  rfr = RandomForestRegressor(max_depth=best_params[\"max_depth\"], n_estimators=best_params[\"n_estimators\"],                               random_state=False, verbose=False)\n",
    "# Perform K-Fold CV\n",
    "   #scores = cross_val_score(rfr, X, y, cv=10, scoring='neg_mean_absolute_error')\n",
    "\n",
    "    #return scores\n",
    "\n",
    "gsc = GridSearchCV(\n",
    "        estimator=RandomForestClassifier(),\n",
    "        param_grid={\n",
    "            'criterion':('gini', 'entropy'),\n",
    "            'n_estimators': (10, 50, 100),\n",
    "            'min_samples_split':(2,10),\n",
    "            \n",
    "        },\n",
    "        cv=5, scoring='accuracy', verbose=3, n_jobs=-1,return_train_score=True)\n",
    "    \n",
    "grid_result = gsc.fit(X, y)\n",
    "best_params = grid_result.best_params_\n",
    "    \n",
    "rfr = RandomForestClassifier(criterion=best_params[\"criterion\"], n_estimators=best_params[\"n_estimators\"],min_samples_split=best_params[\"min_samples_split\"],                               random_state=False, verbose=False)\n",
    "# Perform K-Fold CV\n",
    "scores = cross_val_score(rfr, X, y, cv=5, scoring='accuracy')\n",
    "print(scores)"
   ]
  },
  {
   "cell_type": "code",
   "execution_count": 21,
   "metadata": {
    "scrolled": true
   },
   "outputs": [
    {
     "name": "stderr",
     "output_type": "stream",
     "text": [
      "C:\\Users\\Sylvian\\Anaconda3\\lib\\site-packages\\sklearn\\metrics\\cluster\\supervised.py:844: FutureWarning: The behavior of NMI will change in version 0.22. To match the behavior of 'v_measure_score', NMI will use average_method='arithmetic' by default.\n",
      "  FutureWarning)\n",
      "C:\\Users\\Sylvian\\Anaconda3\\lib\\site-packages\\sklearn\\metrics\\cluster\\supervised.py:844: FutureWarning: The behavior of NMI will change in version 0.22. To match the behavior of 'v_measure_score', NMI will use average_method='arithmetic' by default.\n",
      "  FutureWarning)\n",
      "C:\\Users\\Sylvian\\Anaconda3\\lib\\site-packages\\sklearn\\metrics\\cluster\\supervised.py:844: FutureWarning: The behavior of NMI will change in version 0.22. To match the behavior of 'v_measure_score', NMI will use average_method='arithmetic' by default.\n",
      "  FutureWarning)\n",
      "C:\\Users\\Sylvian\\Anaconda3\\lib\\site-packages\\sklearn\\metrics\\cluster\\supervised.py:844: FutureWarning: The behavior of NMI will change in version 0.22. To match the behavior of 'v_measure_score', NMI will use average_method='arithmetic' by default.\n",
      "  FutureWarning)\n",
      "C:\\Users\\Sylvian\\Anaconda3\\lib\\site-packages\\sklearn\\metrics\\cluster\\supervised.py:844: FutureWarning: The behavior of NMI will change in version 0.22. To match the behavior of 'v_measure_score', NMI will use average_method='arithmetic' by default.\n",
      "  FutureWarning)\n",
      "C:\\Users\\Sylvian\\Anaconda3\\lib\\site-packages\\sklearn\\metrics\\cluster\\supervised.py:844: FutureWarning: The behavior of NMI will change in version 0.22. To match the behavior of 'v_measure_score', NMI will use average_method='arithmetic' by default.\n",
      "  FutureWarning)\n",
      "C:\\Users\\Sylvian\\Anaconda3\\lib\\site-packages\\sklearn\\metrics\\cluster\\supervised.py:844: FutureWarning: The behavior of NMI will change in version 0.22. To match the behavior of 'v_measure_score', NMI will use average_method='arithmetic' by default.\n",
      "  FutureWarning)\n",
      "C:\\Users\\Sylvian\\Anaconda3\\lib\\site-packages\\sklearn\\metrics\\cluster\\supervised.py:844: FutureWarning: The behavior of NMI will change in version 0.22. To match the behavior of 'v_measure_score', NMI will use average_method='arithmetic' by default.\n",
      "  FutureWarning)\n",
      "C:\\Users\\Sylvian\\Anaconda3\\lib\\site-packages\\sklearn\\metrics\\cluster\\supervised.py:844: FutureWarning: The behavior of NMI will change in version 0.22. To match the behavior of 'v_measure_score', NMI will use average_method='arithmetic' by default.\n",
      "  FutureWarning)\n"
     ]
    },
    {
     "name": "stdout",
     "output_type": "stream",
     "text": [
      "[3.28325439e-03 3.87231429e-05 3.00527721e-04 1.18726574e-03\n",
      " 3.47269822e-03 3.28325439e-03 1.49647055e-03 1.18726696e-03\n",
      " 3.28192255e-04 2.94024857e-04]\n"
     ]
    },
    {
     "name": "stderr",
     "output_type": "stream",
     "text": [
      "C:\\Users\\Sylvian\\Anaconda3\\lib\\site-packages\\sklearn\\metrics\\cluster\\supervised.py:844: FutureWarning: The behavior of NMI will change in version 0.22. To match the behavior of 'v_measure_score', NMI will use average_method='arithmetic' by default.\n",
      "  FutureWarning)\n"
     ]
    }
   ],
   "source": [
    "scores = cross_val_score(rfr, X, y, cv=10, scoring='normalized_mutual_info_score')\n",
    "print(scores)"
   ]
  },
  {
   "cell_type": "markdown",
   "metadata": {},
   "source": [
    "As I see estimators like 10, 50, 100, 1000, I will creat an algorithm that start at 1 say, then compute one time, multiply the forest by 10, if it is better, then again by 10 times (or else, I will try, maybe by 2 is better, use the function to calculate computation time and experiment), else take the mid point ==> 10 et 100, 100 est moins bon que 10, alors je prends 55. 55 est meilleur que 100 mais moins bon que 10, alors c'est compris entre 10 et 55, sinon entre 50 et 100. Ensuite on a 65/2=32 entier. Pour chaque étape, afficher le nombre et le score pour être sûr que la technique fonctionne bien."
   ]
  },
  {
   "cell_type": "code",
   "execution_count": 24,
   "metadata": {},
   "outputs": [
    {
     "name": "stdout",
     "output_type": "stream",
     "text": [
      "{'criterion': 'entropy', 'min_samples_split': 2, 'n_estimators': 100}\n"
     ]
    }
   ],
   "source": [
    "print(best_params)"
   ]
  },
  {
   "cell_type": "code",
   "execution_count": 25,
   "metadata": {},
   "outputs": [
    {
     "name": "stderr",
     "output_type": "stream",
     "text": [
      "C:\\Users\\Sylvian\\Anaconda3\\lib\\site-packages\\sklearn\\metrics\\cluster\\supervised.py:844: FutureWarning: The behavior of NMI will change in version 0.22. To match the behavior of 'v_measure_score', NMI will use average_method='arithmetic' by default.\n",
      "  FutureWarning)\n",
      "C:\\Users\\Sylvian\\Anaconda3\\lib\\site-packages\\sklearn\\metrics\\cluster\\supervised.py:844: FutureWarning: The behavior of NMI will change in version 0.22. To match the behavior of 'v_measure_score', NMI will use average_method='arithmetic' by default.\n",
      "  FutureWarning)\n",
      "C:\\Users\\Sylvian\\Anaconda3\\lib\\site-packages\\sklearn\\metrics\\cluster\\supervised.py:844: FutureWarning: The behavior of NMI will change in version 0.22. To match the behavior of 'v_measure_score', NMI will use average_method='arithmetic' by default.\n",
      "  FutureWarning)\n",
      "C:\\Users\\Sylvian\\Anaconda3\\lib\\site-packages\\sklearn\\metrics\\cluster\\supervised.py:844: FutureWarning: The behavior of NMI will change in version 0.22. To match the behavior of 'v_measure_score', NMI will use average_method='arithmetic' by default.\n",
      "  FutureWarning)\n",
      "C:\\Users\\Sylvian\\Anaconda3\\lib\\site-packages\\sklearn\\metrics\\cluster\\supervised.py:844: FutureWarning: The behavior of NMI will change in version 0.22. To match the behavior of 'v_measure_score', NMI will use average_method='arithmetic' by default.\n",
      "  FutureWarning)\n",
      "C:\\Users\\Sylvian\\Anaconda3\\lib\\site-packages\\sklearn\\metrics\\cluster\\supervised.py:844: FutureWarning: The behavior of NMI will change in version 0.22. To match the behavior of 'v_measure_score', NMI will use average_method='arithmetic' by default.\n",
      "  FutureWarning)\n",
      "C:\\Users\\Sylvian\\Anaconda3\\lib\\site-packages\\sklearn\\metrics\\cluster\\supervised.py:844: FutureWarning: The behavior of NMI will change in version 0.22. To match the behavior of 'v_measure_score', NMI will use average_method='arithmetic' by default.\n",
      "  FutureWarning)\n",
      "C:\\Users\\Sylvian\\Anaconda3\\lib\\site-packages\\sklearn\\metrics\\cluster\\supervised.py:844: FutureWarning: The behavior of NMI will change in version 0.22. To match the behavior of 'v_measure_score', NMI will use average_method='arithmetic' by default.\n",
      "  FutureWarning)\n",
      "C:\\Users\\Sylvian\\Anaconda3\\lib\\site-packages\\sklearn\\metrics\\cluster\\supervised.py:844: FutureWarning: The behavior of NMI will change in version 0.22. To match the behavior of 'v_measure_score', NMI will use average_method='arithmetic' by default.\n",
      "  FutureWarning)\n"
     ]
    },
    {
     "name": "stdout",
     "output_type": "stream",
     "text": [
      "[3.28325439e-03 3.87231429e-05 3.00527721e-04 1.18726574e-03\n",
      " 3.47269822e-03 3.28325439e-03 1.49647055e-03 1.18726696e-03\n",
      " 3.28192255e-04 2.94024857e-04]\n"
     ]
    },
    {
     "name": "stderr",
     "output_type": "stream",
     "text": [
      "C:\\Users\\Sylvian\\Anaconda3\\lib\\site-packages\\sklearn\\metrics\\cluster\\supervised.py:844: FutureWarning: The behavior of NMI will change in version 0.22. To match the behavior of 'v_measure_score', NMI will use average_method='arithmetic' by default.\n",
      "  FutureWarning)\n"
     ]
    }
   ],
   "source": [
    "rfr = RandomForestClassifier(criterion='entropy', n_estimators=100,min_samples_split=2,\n",
    "                             random_state=False, verbose=False)\n",
    "# Perform K-Fold CV\n",
    "scores = cross_val_score(rfr, X, y, cv=10, scoring='normalized_mutual_info_score')\n",
    "print(scores)"
   ]
  },
  {
   "cell_type": "code",
   "execution_count": 31,
   "metadata": {},
   "outputs": [
    {
     "data": {
      "text/plain": [
       "['accuracy',\n",
       " 'adjusted_mutual_info_score',\n",
       " 'adjusted_rand_score',\n",
       " 'average_precision',\n",
       " 'balanced_accuracy',\n",
       " 'brier_score_loss',\n",
       " 'completeness_score',\n",
       " 'explained_variance',\n",
       " 'f1',\n",
       " 'f1_macro',\n",
       " 'f1_micro',\n",
       " 'f1_samples',\n",
       " 'f1_weighted',\n",
       " 'fowlkes_mallows_score',\n",
       " 'homogeneity_score',\n",
       " 'mutual_info_score',\n",
       " 'neg_log_loss',\n",
       " 'neg_mean_absolute_error',\n",
       " 'neg_mean_squared_error',\n",
       " 'neg_mean_squared_log_error',\n",
       " 'neg_median_absolute_error',\n",
       " 'normalized_mutual_info_score',\n",
       " 'precision',\n",
       " 'precision_macro',\n",
       " 'precision_micro',\n",
       " 'precision_samples',\n",
       " 'precision_weighted',\n",
       " 'r2',\n",
       " 'recall',\n",
       " 'recall_macro',\n",
       " 'recall_micro',\n",
       " 'recall_samples',\n",
       " 'recall_weighted',\n",
       " 'roc_auc',\n",
       " 'v_measure_score']"
      ]
     },
     "execution_count": 31,
     "metadata": {},
     "output_type": "execute_result"
    }
   ],
   "source": [
    "sorted(skl.metrics.SCORERS.keys())"
   ]
  },
  {
   "cell_type": "code",
   "execution_count": null,
   "metadata": {},
   "outputs": [],
   "source": []
  }
 ],
 "metadata": {
  "kernelspec": {
   "display_name": "Python 3",
   "language": "python",
   "name": "python3"
  },
  "language_info": {
   "codemirror_mode": {
    "name": "ipython",
    "version": 3
   },
   "file_extension": ".py",
   "mimetype": "text/x-python",
   "name": "python",
   "nbconvert_exporter": "python",
   "pygments_lexer": "ipython3",
   "version": "3.7.1"
  }
 },
 "nbformat": 4,
 "nbformat_minor": 2
}
