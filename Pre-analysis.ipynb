{
    "cells": [
        {
            "cell_type": "code",
            "execution_count": 2,
            "metadata": {},
            "outputs": [],
            "source": "import pandas as pd\nimport numpy as np"
        },
        {
            "cell_type": "code",
            "execution_count": 3,
            "metadata": {},
            "outputs": [
                {
                    "name": "stderr",
                    "output_type": "stream",
                    "text": "C:\\Users\\Sylvian\\Anaconda3\\lib\\site-packages\\IPython\\core\\interactiveshell.py:3049: DtypeWarning: Columns (33) have mixed types. Specify dtype option on import or set low_memory=False.\n  interactivity=interactivity, compiler=compiler, result=result)\n"
                },
                {
                    "data": {
                        "text/html": "<div>\n<style scoped>\n    .dataframe tbody tr th:only-of-type {\n        vertical-align: middle;\n    }\n\n    .dataframe tbody tr th {\n        vertical-align: top;\n    }\n\n    .dataframe thead th {\n        text-align: right;\n    }\n</style>\n<table border=\"1\" class=\"dataframe\">\n  <thead>\n    <tr style=\"text-align: right;\">\n      <th></th>\n      <th>SEVERITYCODE</th>\n      <th>X</th>\n      <th>Y</th>\n      <th>OBJECTID</th>\n      <th>INCKEY</th>\n      <th>COLDETKEY</th>\n      <th>REPORTNO</th>\n      <th>STATUS</th>\n      <th>ADDRTYPE</th>\n      <th>INTKEY</th>\n      <th>...</th>\n      <th>ROADCOND</th>\n      <th>LIGHTCOND</th>\n      <th>PEDROWNOTGRNT</th>\n      <th>SDOTCOLNUM</th>\n      <th>SPEEDING</th>\n      <th>ST_COLCODE</th>\n      <th>ST_COLDESC</th>\n      <th>SEGLANEKEY</th>\n      <th>CROSSWALKKEY</th>\n      <th>HITPARKEDCAR</th>\n    </tr>\n  </thead>\n  <tbody>\n    <tr>\n      <th>0</th>\n      <td>2</td>\n      <td>-122.323148</td>\n      <td>47.703140</td>\n      <td>1</td>\n      <td>1307</td>\n      <td>1307</td>\n      <td>3502005</td>\n      <td>Matched</td>\n      <td>Intersection</td>\n      <td>37475.0</td>\n      <td>...</td>\n      <td>Wet</td>\n      <td>Daylight</td>\n      <td>NaN</td>\n      <td>NaN</td>\n      <td>NaN</td>\n      <td>10</td>\n      <td>Entering at angle</td>\n      <td>0</td>\n      <td>0</td>\n      <td>N</td>\n    </tr>\n    <tr>\n      <th>1</th>\n      <td>1</td>\n      <td>-122.347294</td>\n      <td>47.647172</td>\n      <td>2</td>\n      <td>52200</td>\n      <td>52200</td>\n      <td>2607959</td>\n      <td>Matched</td>\n      <td>Block</td>\n      <td>NaN</td>\n      <td>...</td>\n      <td>Wet</td>\n      <td>Dark - Street Lights On</td>\n      <td>NaN</td>\n      <td>6354039.0</td>\n      <td>NaN</td>\n      <td>11</td>\n      <td>From same direction - both going straight - bo...</td>\n      <td>0</td>\n      <td>0</td>\n      <td>N</td>\n    </tr>\n    <tr>\n      <th>2</th>\n      <td>1</td>\n      <td>-122.334540</td>\n      <td>47.607871</td>\n      <td>3</td>\n      <td>26700</td>\n      <td>26700</td>\n      <td>1482393</td>\n      <td>Matched</td>\n      <td>Block</td>\n      <td>NaN</td>\n      <td>...</td>\n      <td>Dry</td>\n      <td>Daylight</td>\n      <td>NaN</td>\n      <td>4323031.0</td>\n      <td>NaN</td>\n      <td>32</td>\n      <td>One parked--one moving</td>\n      <td>0</td>\n      <td>0</td>\n      <td>N</td>\n    </tr>\n    <tr>\n      <th>3</th>\n      <td>1</td>\n      <td>-122.334803</td>\n      <td>47.604803</td>\n      <td>4</td>\n      <td>1144</td>\n      <td>1144</td>\n      <td>3503937</td>\n      <td>Matched</td>\n      <td>Block</td>\n      <td>NaN</td>\n      <td>...</td>\n      <td>Dry</td>\n      <td>Daylight</td>\n      <td>NaN</td>\n      <td>NaN</td>\n      <td>NaN</td>\n      <td>23</td>\n      <td>From same direction - all others</td>\n      <td>0</td>\n      <td>0</td>\n      <td>N</td>\n    </tr>\n    <tr>\n      <th>4</th>\n      <td>2</td>\n      <td>-122.306426</td>\n      <td>47.545739</td>\n      <td>5</td>\n      <td>17700</td>\n      <td>17700</td>\n      <td>1807429</td>\n      <td>Matched</td>\n      <td>Intersection</td>\n      <td>34387.0</td>\n      <td>...</td>\n      <td>Wet</td>\n      <td>Daylight</td>\n      <td>NaN</td>\n      <td>4028032.0</td>\n      <td>NaN</td>\n      <td>10</td>\n      <td>Entering at angle</td>\n      <td>0</td>\n      <td>0</td>\n      <td>N</td>\n    </tr>\n  </tbody>\n</table>\n<p>5 rows \u00d7 38 columns</p>\n</div>",
                        "text/plain": "   SEVERITYCODE           X          Y  OBJECTID  INCKEY  COLDETKEY REPORTNO  \\\n0             2 -122.323148  47.703140         1    1307       1307  3502005   \n1             1 -122.347294  47.647172         2   52200      52200  2607959   \n2             1 -122.334540  47.607871         3   26700      26700  1482393   \n3             1 -122.334803  47.604803         4    1144       1144  3503937   \n4             2 -122.306426  47.545739         5   17700      17700  1807429   \n\n    STATUS      ADDRTYPE   INTKEY  ... ROADCOND                LIGHTCOND  \\\n0  Matched  Intersection  37475.0  ...      Wet                 Daylight   \n1  Matched         Block      NaN  ...      Wet  Dark - Street Lights On   \n2  Matched         Block      NaN  ...      Dry                 Daylight   \n3  Matched         Block      NaN  ...      Dry                 Daylight   \n4  Matched  Intersection  34387.0  ...      Wet                 Daylight   \n\n  PEDROWNOTGRNT  SDOTCOLNUM SPEEDING ST_COLCODE  \\\n0           NaN         NaN      NaN         10   \n1           NaN   6354039.0      NaN         11   \n2           NaN   4323031.0      NaN         32   \n3           NaN         NaN      NaN         23   \n4           NaN   4028032.0      NaN         10   \n\n                                          ST_COLDESC  SEGLANEKEY  \\\n0                                  Entering at angle           0   \n1  From same direction - both going straight - bo...           0   \n2                             One parked--one moving           0   \n3                   From same direction - all others           0   \n4                                  Entering at angle           0   \n\n   CROSSWALKKEY  HITPARKEDCAR  \n0             0             N  \n1             0             N  \n2             0             N  \n3             0             N  \n4             0             N  \n\n[5 rows x 38 columns]"
                    },
                    "execution_count": 3,
                    "metadata": {},
                    "output_type": "execute_result"
                }
            ],
            "source": "df_brut = pd.read_csv(r'C:\Users\Sylvian\Google Drive\Aa.Data Science\Cours\IBM\IBM Data Science\Module 9 capstone project')\ndf_brut.head()"
        },
        {
            "cell_type": "code",
            "execution_count": 5,
            "metadata": {},
            "outputs": [
                {
                    "data": {
                        "text/html": "<div>\n<style scoped>\n    .dataframe tbody tr th:only-of-type {\n        vertical-align: middle;\n    }\n\n    .dataframe tbody tr th {\n        vertical-align: top;\n    }\n\n    .dataframe thead th {\n        text-align: right;\n    }\n</style>\n<table border=\"1\" class=\"dataframe\">\n  <thead>\n    <tr style=\"text-align: right;\">\n      <th></th>\n      <th>SEVERITYCODE</th>\n      <th>X</th>\n      <th>Y</th>\n      <th>OBJECTID</th>\n      <th>INCKEY</th>\n      <th>COLDETKEY</th>\n      <th>INTKEY</th>\n      <th>SEVERITYCODE.1</th>\n      <th>PERSONCOUNT</th>\n      <th>PEDCOUNT</th>\n      <th>PEDCYLCOUNT</th>\n      <th>VEHCOUNT</th>\n      <th>SDOT_COLCODE</th>\n      <th>SDOTCOLNUM</th>\n      <th>SEGLANEKEY</th>\n      <th>CROSSWALKKEY</th>\n    </tr>\n  </thead>\n  <tbody>\n    <tr>\n      <th>count</th>\n      <td>194673.000000</td>\n      <td>189339.000000</td>\n      <td>189339.000000</td>\n      <td>194673.000000</td>\n      <td>194673.000000</td>\n      <td>194673.000000</td>\n      <td>65070.000000</td>\n      <td>194673.000000</td>\n      <td>194673.000000</td>\n      <td>194673.000000</td>\n      <td>194673.000000</td>\n      <td>194673.000000</td>\n      <td>194673.000000</td>\n      <td>1.149360e+05</td>\n      <td>194673.000000</td>\n      <td>1.946730e+05</td>\n    </tr>\n    <tr>\n      <th>mean</th>\n      <td>1.298901</td>\n      <td>-122.330518</td>\n      <td>47.619543</td>\n      <td>108479.364930</td>\n      <td>141091.456350</td>\n      <td>141298.811381</td>\n      <td>37558.450576</td>\n      <td>1.298901</td>\n      <td>2.444427</td>\n      <td>0.037139</td>\n      <td>0.028391</td>\n      <td>1.920780</td>\n      <td>13.867768</td>\n      <td>7.972521e+06</td>\n      <td>269.401114</td>\n      <td>9.782452e+03</td>\n    </tr>\n    <tr>\n      <th>std</th>\n      <td>0.457778</td>\n      <td>0.029976</td>\n      <td>0.056157</td>\n      <td>62649.722558</td>\n      <td>86634.402737</td>\n      <td>86986.542110</td>\n      <td>51745.990273</td>\n      <td>0.457778</td>\n      <td>1.345929</td>\n      <td>0.198150</td>\n      <td>0.167413</td>\n      <td>0.631047</td>\n      <td>6.868755</td>\n      <td>2.553533e+06</td>\n      <td>3315.776055</td>\n      <td>7.226926e+04</td>\n    </tr>\n    <tr>\n      <th>min</th>\n      <td>1.000000</td>\n      <td>-122.419091</td>\n      <td>47.495573</td>\n      <td>1.000000</td>\n      <td>1001.000000</td>\n      <td>1001.000000</td>\n      <td>23807.000000</td>\n      <td>1.000000</td>\n      <td>0.000000</td>\n      <td>0.000000</td>\n      <td>0.000000</td>\n      <td>0.000000</td>\n      <td>0.000000</td>\n      <td>1.007024e+06</td>\n      <td>0.000000</td>\n      <td>0.000000e+00</td>\n    </tr>\n    <tr>\n      <th>25%</th>\n      <td>1.000000</td>\n      <td>-122.348673</td>\n      <td>47.575956</td>\n      <td>54267.000000</td>\n      <td>70383.000000</td>\n      <td>70383.000000</td>\n      <td>28667.000000</td>\n      <td>1.000000</td>\n      <td>2.000000</td>\n      <td>0.000000</td>\n      <td>0.000000</td>\n      <td>2.000000</td>\n      <td>11.000000</td>\n      <td>6.040015e+06</td>\n      <td>0.000000</td>\n      <td>0.000000e+00</td>\n    </tr>\n    <tr>\n      <th>50%</th>\n      <td>1.000000</td>\n      <td>-122.330224</td>\n      <td>47.615369</td>\n      <td>106912.000000</td>\n      <td>123363.000000</td>\n      <td>123363.000000</td>\n      <td>29973.000000</td>\n      <td>1.000000</td>\n      <td>2.000000</td>\n      <td>0.000000</td>\n      <td>0.000000</td>\n      <td>2.000000</td>\n      <td>13.000000</td>\n      <td>8.023022e+06</td>\n      <td>0.000000</td>\n      <td>0.000000e+00</td>\n    </tr>\n    <tr>\n      <th>75%</th>\n      <td>2.000000</td>\n      <td>-122.311937</td>\n      <td>47.663664</td>\n      <td>162272.000000</td>\n      <td>203319.000000</td>\n      <td>203459.000000</td>\n      <td>33973.000000</td>\n      <td>2.000000</td>\n      <td>3.000000</td>\n      <td>0.000000</td>\n      <td>0.000000</td>\n      <td>2.000000</td>\n      <td>14.000000</td>\n      <td>1.015501e+07</td>\n      <td>0.000000</td>\n      <td>0.000000e+00</td>\n    </tr>\n    <tr>\n      <th>max</th>\n      <td>2.000000</td>\n      <td>-122.238949</td>\n      <td>47.734142</td>\n      <td>219547.000000</td>\n      <td>331454.000000</td>\n      <td>332954.000000</td>\n      <td>757580.000000</td>\n      <td>2.000000</td>\n      <td>81.000000</td>\n      <td>6.000000</td>\n      <td>2.000000</td>\n      <td>12.000000</td>\n      <td>69.000000</td>\n      <td>1.307202e+07</td>\n      <td>525241.000000</td>\n      <td>5.239700e+06</td>\n    </tr>\n  </tbody>\n</table>\n</div>",
                        "text/plain": "        SEVERITYCODE              X              Y       OBJECTID  \\\ncount  194673.000000  189339.000000  189339.000000  194673.000000   \nmean        1.298901    -122.330518      47.619543  108479.364930   \nstd         0.457778       0.029976       0.056157   62649.722558   \nmin         1.000000    -122.419091      47.495573       1.000000   \n25%         1.000000    -122.348673      47.575956   54267.000000   \n50%         1.000000    -122.330224      47.615369  106912.000000   \n75%         2.000000    -122.311937      47.663664  162272.000000   \nmax         2.000000    -122.238949      47.734142  219547.000000   \n\n              INCKEY      COLDETKEY         INTKEY  SEVERITYCODE.1  \\\ncount  194673.000000  194673.000000   65070.000000   194673.000000   \nmean   141091.456350  141298.811381   37558.450576        1.298901   \nstd     86634.402737   86986.542110   51745.990273        0.457778   \nmin      1001.000000    1001.000000   23807.000000        1.000000   \n25%     70383.000000   70383.000000   28667.000000        1.000000   \n50%    123363.000000  123363.000000   29973.000000        1.000000   \n75%    203319.000000  203459.000000   33973.000000        2.000000   \nmax    331454.000000  332954.000000  757580.000000        2.000000   \n\n         PERSONCOUNT       PEDCOUNT    PEDCYLCOUNT       VEHCOUNT  \\\ncount  194673.000000  194673.000000  194673.000000  194673.000000   \nmean        2.444427       0.037139       0.028391       1.920780   \nstd         1.345929       0.198150       0.167413       0.631047   \nmin         0.000000       0.000000       0.000000       0.000000   \n25%         2.000000       0.000000       0.000000       2.000000   \n50%         2.000000       0.000000       0.000000       2.000000   \n75%         3.000000       0.000000       0.000000       2.000000   \nmax        81.000000       6.000000       2.000000      12.000000   \n\n        SDOT_COLCODE    SDOTCOLNUM     SEGLANEKEY  CROSSWALKKEY  \ncount  194673.000000  1.149360e+05  194673.000000  1.946730e+05  \nmean       13.867768  7.972521e+06     269.401114  9.782452e+03  \nstd         6.868755  2.553533e+06    3315.776055  7.226926e+04  \nmin         0.000000  1.007024e+06       0.000000  0.000000e+00  \n25%        11.000000  6.040015e+06       0.000000  0.000000e+00  \n50%        13.000000  8.023022e+06       0.000000  0.000000e+00  \n75%        14.000000  1.015501e+07       0.000000  0.000000e+00  \nmax        69.000000  1.307202e+07  525241.000000  5.239700e+06  "
                    },
                    "execution_count": 5,
                    "metadata": {},
                    "output_type": "execute_result"
                }
            ],
            "source": "df_brut.describe()"
        },
        {
            "cell_type": "code",
            "execution_count": 10,
            "metadata": {},
            "outputs": [
                {
                    "name": "stdout",
                    "output_type": "stream",
                    "text": "<class 'pandas.core.frame.DataFrame'>\nRangeIndex: 194673 entries, 0 to 194672\nData columns (total 38 columns):\nSEVERITYCODE      194673 non-null int64\nX                 189339 non-null float64\nY                 189339 non-null float64\nOBJECTID          194673 non-null int64\nINCKEY            194673 non-null int64\nCOLDETKEY         194673 non-null int64\nREPORTNO          194673 non-null object\nSTATUS            194673 non-null object\nADDRTYPE          192747 non-null object\nINTKEY            65070 non-null float64\nLOCATION          191996 non-null object\nEXCEPTRSNCODE     84811 non-null object\nEXCEPTRSNDESC     5638 non-null object\nSEVERITYCODE.1    194673 non-null int64\nSEVERITYDESC      194673 non-null object\nCOLLISIONTYPE     189769 non-null object\nPERSONCOUNT       194673 non-null int64\nPEDCOUNT          194673 non-null int64\nPEDCYLCOUNT       194673 non-null int64\nVEHCOUNT          194673 non-null int64\nINCDATE           194673 non-null object\nINCDTTM           194673 non-null object\nJUNCTIONTYPE      188344 non-null object\nSDOT_COLCODE      194673 non-null int64\nSDOT_COLDESC      194673 non-null object\nINATTENTIONIND    29805 non-null object\nUNDERINFL         189789 non-null object\nWEATHER           189592 non-null object\nROADCOND          189661 non-null object\nLIGHTCOND         189503 non-null object\nPEDROWNOTGRNT     4667 non-null object\nSDOTCOLNUM        114936 non-null float64\nSPEEDING          9333 non-null object\nST_COLCODE        194655 non-null object\nST_COLDESC        189769 non-null object\nSEGLANEKEY        194673 non-null int64\nCROSSWALKKEY      194673 non-null int64\nHITPARKEDCAR      194673 non-null object\ndtypes: float64(4), int64(12), object(22)\nmemory usage: 56.4+ MB\n"
                }
            ],
            "source": "df_brut.info()"
        },
        {
            "cell_type": "code",
            "execution_count": 12,
            "metadata": {},
            "outputs": [
                {
                    "data": {
                        "text/plain": "Dry               124510\nWet                47474\nUnknown            15078\nIce                 1209\nSnow/Slush          1004\nOther                132\nStanding Water       115\nSand/Mud/Dirt         75\nOil                   64\nName: ROADCOND, dtype: int64"
                    },
                    "execution_count": 12,
                    "metadata": {},
                    "output_type": "execute_result"
                }
            ],
            "source": "df_count_weather = df_brut[\"ROADCOND\"].value_counts()\ndf_count_weather"
        },
        {
            "cell_type": "markdown",
            "metadata": {},
            "source": "Now, our purpose is to analyse the impact the weather has on the severity of accident. So we will count Standing water as wet and we will delete all the rows containing \"unknown\", \"other\", \"sand/Mud/dirt\" and \"oil\". Either because we can't model with it, or either it only depends on bad luck, and you cannot predict it."
        },
        {
            "cell_type": "code",
            "execution_count": 55,
            "metadata": {},
            "outputs": [
                {
                    "data": {
                        "text/plain": "Dry           124510\nWet            47589\nIce             1209\nSnow/Slush      1004\nName: ROADCOND, dtype: int64"
                    },
                    "execution_count": 55,
                    "metadata": {},
                    "output_type": "execute_result"
                }
            ],
            "source": "df_brut = df_brut.replace(\"Standing Water\",\"Wet\")\ndf2 = df_brut[(df_brut[\"ROADCOND\"]==\"Dry\")|(df_brut[\"ROADCOND\"]==\"Wet\")|(df_brut[\"ROADCOND\"]==\"Ice\")|(df_brut[\"ROADCOND\"]==\"Snow/Slush\")]\ndf2_count= df2[\"ROADCOND\"].value_counts()\ndf2_count"
        },
        {
            "cell_type": "code",
            "execution_count": 61,
            "metadata": {},
            "outputs": [
                {
                    "data": {
                        "text/plain": "1    118023\n2     56289\nName: SEVERITYCODE, dtype: int64"
                    },
                    "execution_count": 61,
                    "metadata": {},
                    "output_type": "execute_result"
                }
            ],
            "source": "df2[\"SEVERITYCODE\"].value_counts()"
        },
        {
            "cell_type": "code",
            "execution_count": 60,
            "metadata": {},
            "outputs": [
                {
                    "data": {
                        "text/plain": "1    118023\n2     56289\nName: SEVERITYCODE.1, dtype: int64"
                    },
                    "execution_count": 60,
                    "metadata": {},
                    "output_type": "execute_result"
                }
            ],
            "source": "df2[\"SEVERITYCODE.1\"].value_counts()"
        },
        {
            "cell_type": "code",
            "execution_count": 71,
            "metadata": {},
            "outputs": [
                {
                    "name": "stdout",
                    "output_type": "stream",
                    "text": "dry :\n 1    84446\n2    40064\nName: SEVERITYCODE, dtype: int64\nwet :\n 1    31804\n2    15785\nName: SEVERITYCODE, dtype: int64\nice :\n 1    936\n2    273\nName: SEVERITYCODE, dtype: int64\nsnow :\n 1    837\n2    167\nName: SEVERITYCODE, dtype: int64\n"
                },
                {
                    "name": "stderr",
                    "output_type": "stream",
                    "text": "C:\\Users\\Sylvian\\Anaconda3\\lib\\site-packages\\ipykernel_launcher.py:3: UserWarning: Boolean Series key will be reindexed to match DataFrame index.\n  This is separate from the ipykernel package so we can avoid doing imports until\nC:\\Users\\Sylvian\\Anaconda3\\lib\\site-packages\\ipykernel_launcher.py:5: UserWarning: Boolean Series key will be reindexed to match DataFrame index.\n  \"\"\"\nC:\\Users\\Sylvian\\Anaconda3\\lib\\site-packages\\ipykernel_launcher.py:7: UserWarning: Boolean Series key will be reindexed to match DataFrame index.\n  import sys\nC:\\Users\\Sylvian\\Anaconda3\\lib\\site-packages\\ipykernel_launcher.py:9: UserWarning: Boolean Series key will be reindexed to match DataFrame index.\n  if __name__ == '__main__':\n"
                }
            ],
            "source": "#let's create a variable for each road condition, then analyse the proportion of type 1 or 2 severity\n\ndf_dry = df2[df_brut[\"ROADCOND\"]==\"Dry\"]\n\ndf_wet = df2[df_brut[\"ROADCOND\"]==\"Wet\"]\n\ndf_ice = df2[df_brut[\"ROADCOND\"]==\"Ice\"]\n\ndf_snow = df2[df_brut[\"ROADCOND\"]==\"Snow/Slush\"]\n\n\ndf_dry_counts = df_dry[\"SEVERITYCODE\"].value_counts()\n\ndf_wet_counts = df_wet[\"SEVERITYCODE\"].value_counts()\n\ndf_ice_counts = df_ice[\"SEVERITYCODE\"].value_counts()\n\ndf_snow_counts = df_snow[\"SEVERITYCODE\"].value_counts()\n\nprint(\"dry :\\n\",df_dry_counts)\nprint(\"wet :\\n\",df_wet_counts)\nprint(\"ice :\\n\",df_ice_counts)\nprint(\"snow :\\n\",df_snow_counts)"
        },
        {
            "cell_type": "code",
            "execution_count": 75,
            "metadata": {},
            "outputs": [
                {
                    "name": "stdout",
                    "output_type": "stream",
                    "text": "There is 47.44 of severity 2 accident in dry conditions for 100 severity 1 accident\nThere is 49.63 of severity 2 accident in wet conditions for 100 severity 1 accident\nThere is 29.17 of severity 2 accident in ice conditions for 100 severity 1 accident\nThere is 19.95 of severity 2 accident in snow conditions for 100 severity 1 accident\n"
                }
            ],
            "source": "print(\"There is %0.2f of severity 2 accident in dry conditions for 100 severity 1 accident\" %(40064/84446*100))\nprint(\"There is %0.2f of severity 2 accident in wet conditions for 100 severity 1 accident\" %(15785/31804*100))\nprint(\"There is %0.2f of severity 2 accident in ice conditions for 100 severity 1 accident\" %(273/936*100))\nprint(\"There is %0.2f of severity 2 accident in snow conditions for 100 severity 1 accident\" %(167/837*100))"
        },
        {
            "cell_type": "markdown",
            "metadata": {},
            "source": "There is one thing noticeable with this result. When there is snow or ice, the severity decrease. People tend to take more precaution on the road. Maybe the type of accident can depend on the weather ? Let's try to find if there is a pattern. "
        },
        {
            "cell_type": "code",
            "execution_count": 80,
            "metadata": {},
            "outputs": [
                {
                    "data": {
                        "text/plain": "Entering at angle                                                                        34160\nOne parked--one moving                                                                   32980\nFrom same direction - both going straight - one stopped - rear-end                       24916\nFixed object                                                                             13146\nFrom same direction - both going straight - both moving - sideswipe                      12269\nFrom opposite direction - one left turn - one straight                                   10207\nFrom same direction - both going straight - both moving - rear-end                        7449\nVehicle - Pedalcyclist                                                                    4591\nFrom same direction - all others                                                          4333\nFrom same direction - one left turn - one straight                                        3016\nFrom same direction - one right turn - one straight                                       2851\nVehicle going straight hits pedestrian                                                    2801\nOne car leaving parked position                                                           2748\nFrom same direction - both going straight - one stopped - sideswipe                       2302\nOne car leaving driveway access                                                           2207\nVehicle turning left hits pedestrian                                                      2132\nOne car entering driveway access                                                          1591\nFrom opposite direction - all others                                                      1261\nVehicle turning right hits pedestrian                                                     1153\nSame direction -- both turning right -- both moving -- sideswipe                          1150\nFrom opposite direction - both going straight - sideswipe                                  995\nSame direction -- both turning left -- both moving -- sideswipe                            804\nVehicle overturned                                                                         790\nOne car entering parked position                                                           689\nFrom opposite direction - both moving - head-on                                            585\nVehicle Strikes Pedalcyclist                                                               406\nOther object                                                                               346\nSame direction -- both turning right -- one stopped -- rear end                            334\nFrom opposite direction - one left turn - one right turn                                   277\nPedalcyclist Strikes Moving Vehicle                                                        253\n                                                                                         ...  \nSame direction -- both turning right -- both moving -- rear end                            161\nFrom opposite direction - one stopped - head-on                                            128\nVehicle hits Pedestrian - All Other Actions                                                108\nAll other non-collision                                                                    106\nRailway Vehicle Strikes Vehicle                                                            102\nSame direction -- both turning left -- one stopped -- rear end                              91\nSame direction -- both turning left -- both moving -- rear end                              85\nSame direction -- both turning right -- one stopped -- sideswipe                            73\nVehicle Strikes Railway Vehicle                                                             57\nVehicle Hits City Road or Construction Machinery                                            50\nSame direction -- both turning left -- one stopped -- sideswipe                             34\nBreakage of any part of the vehicle resulting in injury or in further property damage       34\nNot stated                                                                                  30\nDomestic animal other (cat, dog, etc)                                                       30\nPerson fell, jumped or was pushed from vehicle                                              25\nPedalcyclist All Other Involvements ONE UNIT - PEDALCYCLIST ONLY or PEDALCYCLIST STR        23\nPedalcyclist Strikes Pedalcyclist or Pedestrian                                             18\nVehicle Struck by City Road or Construction Machinery                                       11\nRailway Vehicle Strikes Pedestrian                                                          11\nVehicle Hits Other Road or Construction Machinery                                           11\nVehicle Struck by Other Road or Construction Machinery                                       9\nStrikes or Was Struck by Object from the Load of Another Vehicle                             9\nAll Other Multi Vehicle                                                                      8\nFire started in vehicle                                                                      7\nStrikes or Was Struck by a Part of Another Vehicle (Not from Load)                           5\nRailway Vehicle Strikes Pedalcyclist                                                         2\nVehicle Strikes All Other Non-Domestic Animal                                                2\nVehicle Hits State Road or Construction Machinery                                            1\nNon-domestic animal (deer, bear, elk, etc)                                                   1\nVehicle Strikes Deer                                                                         1\nName: ST_COLDESC, Length: 62, dtype: int64"
                    },
                    "execution_count": 80,
                    "metadata": {},
                    "output_type": "execute_result"
                }
            ],
            "source": "df_brut[\"ST_COLDESC\"].value_counts()"
        },
        {
            "cell_type": "markdown",
            "metadata": {},
            "source": "Too much different things happening. But, can we see un increase in pedestrian accident when there is rain, snow or ice ?"
        },
        {
            "cell_type": "code",
            "execution_count": 83,
            "metadata": {},
            "outputs": [
                {
                    "name": "stdout",
                    "output_type": "stream",
                    "text": "Dry :\n 0    119970\n1      4373\n2       144\n3        18\n4         3\n6         1\n5         1\nName: PEDCOUNT, dtype: int64\nWet:\n 0    45437\n1     2071\n2       76\n3        4\n4        1\nName: PEDCOUNT, dtype: int64\nIce :\n 0    1187\n1      19\n2       3\nName: PEDCOUNT, dtype: int64\nSnow : \n 0    978\n1     26\nName: PEDCOUNT, dtype: int64\n"
                }
            ],
            "source": "dry_ped_count = df_dry[\"PEDCOUNT\"].value_counts()\n\nwet_ped_count = df_wet[\"PEDCOUNT\"].value_counts()\n\nice_ped_count = df_ice[\"PEDCOUNT\"].value_counts()\n\nsnow_ped_count = df_snow[\"PEDCOUNT\"].value_counts()\n\nprint(\"Dry :\\n\",dry_ped_count)\nprint(\"Wet:\\n\",wet_ped_count)\nprint(\"Ice :\\n\",ice_ped_count)\nprint(\"Snow : \\n\",snow_ped_count)"
        },
        {
            "cell_type": "code",
            "execution_count": 85,
            "metadata": {},
            "outputs": [
                {
                    "name": "stdout",
                    "output_type": "stream",
                    "text": "Proportion of pedestrian in accident when the road is dry :0.04\nProportion of pedestrian in accident when the road is wet :0.05\nProportion of pedestrian in accident when the road is ice :0.02\nProportion of pedestrian in accident when the road is snow :0.03\n"
                }
            ],
            "source": "prop_dry_ped = (4373+2*144+3*18+4*3+11)/119970\nprop_wet_ped = (2071+2*76+16)/45437\nprop_ice_ped = (25)/1187\nprop_snow_ped = (26)/978\n\nprint(\"Proportion of pedestrian in accident when the road is dry :%0.2f\" %prop_dry_ped)\nprint(\"Proportion of pedestrian in accident when the road is wet :%0.2f\" %prop_wet_ped)\nprint(\"Proportion of pedestrian in accident when the road is ice :%0.2f\" %prop_ice_ped)\nprint(\"Proportion of pedestrian in accident when the road is snow :%0.2f\" %prop_snow_ped)"
        },
        {
            "cell_type": "markdown",
            "metadata": {},
            "source": "Here again, we find the same things as before. A small increase in wet casualties, and less when there is ice or snow. That means certainly that we are do not take enough precaution when it is wet, we drive as we do in dry conditions, but when the road is obviously slicky, we take more precautions.\nThat implies also that, when there is accident in snowy or icy conditions, there is more material degradation."
        },
        {
            "cell_type": "code",
            "execution_count": 86,
            "metadata": {},
            "outputs": [
                {
                    "data": {
                        "text/plain": "BATTERY ST TUNNEL NB BETWEEN ALASKAN WY VI NB AND AURORA AVE N                          266\nN NORTHGATE WAY BETWEEN MERIDIAN AVE N AND CORLISS AVE N                                261\nBATTERY ST TUNNEL SB BETWEEN AURORA AVE N AND ALASKAN WY VI SB                          259\nAURORA AVE N BETWEEN N 117TH PL AND N 125TH ST                                          251\n6TH AVE AND JAMES ST                                                                    247\nAURORA AVE N BETWEEN N 130TH ST AND N 135TH ST                                          231\nALASKAN WY VI NB BETWEEN S ROYAL BROUGHAM WAY ON RP AND SENECA ST OFF RP                229\nRAINIER AVE S BETWEEN S BAYVIEW ST AND S MCCLELLAN ST                                   220\nWEST SEATTLE BR EB BETWEEN ALASKAN WY VI NB ON RP AND DELRIDGE-W SEATTLE BR EB ON RP    210\nALASKAN WY VI SB BETWEEN COLUMBIA ST ON RP AND ALASKAN WY VI SB EFR OFF RP              207\nAURORA BR BETWEEN RAYE ST AND BRIDGE WAY N                                              176\nALASKAN WY VI NB BETWEEN SENECA ST OFF RP AND WESTERN AV OFF RP                         156\n5TH AVE AND SPRING ST                                                                   152\nRAINIER AVE S BETWEEN S HENDERSON ST AND S DIRECTOR N ST                                149\n1ST AVE BETWEEN BLANCHARD ST AND BELL ST                                                145\nRAINIER AVE S BETWEEN S DEARBORN ST AND S CHARLES N ST                                  142\n5TH AVE AND UNION ST                                                                    135\n5TH AVE AND VIRGINIA ST                                                                 134\nRAINIER AVE S BETWEEN S CHARLESTOWN ST AND S ANDOVER ST                                 131\nOLSON PL SW BETWEEN 1ST AVE S AND 2ND AVE SW                                            131\nNE NORTHGATE WAY BETWEEN 5TH AVE NE AND 8TH AVE NE                                      129\nMONTLAKE BLVD NE BETWEEN NE PACIFIC PL AND 25TH AVE NE                                  129\n12TH AVE AND E MADISON ST                                                               127\nRAINIER AVE S AND S ORCAS ST                                                            127\n5TH AVE AND UNIVERSITY ST                                                               127\nS MICHIGAN ST BETWEEN 7TH AVE S AND CORSON AVE S                                        123\nEAST MARGINAL WAY S BETWEEN S FIDALGO ST AND 1ST AVE S                                  123\nNE NORTHGATE WAY BETWEEN 3RD AVE NE AND 5TH AVE NE                                      123\nRAINIER AVE S BETWEEN S CLOVERDALE ST AND S HENDERSON ST                                122\n1ST AVE BETWEEN UNION ST AND PIKE ST                                                    121\n                                                                                       ... \n19TH AVE S AND S HOLGATE ST                                                               1\n22ND AVE E BETWEEN BOYER AVE E AND E BLAINE ST                                            1\nNW 95TH ST BETWEEN 1ST AVE NW AND 2ND AVE NW                                              1\nS WALKER ST BETWEEN 13TH AVE S AND 14TH AVE S                                             1\nAIRPORT WAY S BETWEEN S HANFORD ST AND S HORTON N ST                                      1\nNE 75TH ST BETWEEN 43RD AVE NE AND 44TH AVE NE                                            1\n14TH AVE S BETWEEN S DAKOTA ST AND S NEVADA ST                                            1\n36TH AVE NE AND NE 77TH ST                                                                1\nCLOVERDALE ST ON RP AND S CLOVERDALE E ST                                                 1\n34TH AVE SW AND SW 106TH ST                                                               1\n5TH AVE NE BETWEEN NE 124TH ST AND NE 125TH ST                                            1\nKIRKWOOD PL N AND N 54TH ST                                                               1\nNW 83RD ST BETWEEN 22ND AVE NW AND 23RD AVE NW                                            1\nNW 110TH ST BETWEEN 1ST AVE NW AND 2ND AVE NW                                             1\nN 41ST ST BETWEEN INTERLAKE AVE N AND ASHWORTH AVE N                                      1\nLAKE SHORE DR S BETWEEN HAMPTON RD S AND S EDDY ST                                        1\nN 120TH ST BETWEEN GREENWOOD AVE N AND PHINNEY AVE N                                      1\nRENTON AVE S BETWEEN S DAKOTA ST AND S ADAMS ST                                           1\nN 34TH ST BETWEEN N NORTHLAKE PL AND CARR PL N                                            1\nNE 60TH ST BETWEEN 44TH AVE NE AND 45TH AVE NE                                            1\nN 51ST ST BETWEEN GREENWOOD AVE N AND PHINNEY AVE N                                       1\nNE 104TH ST BETWEEN ROOSEVELT WAY NE AND 11TH AVE NE                                      1\n52ND AVE S BETWEEN S ROXBURY ST AND RENTON AVE S                                          1\nS SNOQUALMIE ST BETWEEN 51ST AVE S AND 52ND AVE S                                         1\n39TH AVE NE BETWEEN NE 70TH ST AND NE 73RD ST                                             1\nS MOUNT BAKER EB BV BETWEEN 32ND AVE S AND 33RD AVE S                                     1\nNW 50TH ST BETWEEN 6TH W AVE NW AND 8TH AVE NW                                            1\nASHWORTH AVE N BETWEEN N 41ST ST AND N 42ND ST                                            1\nSW HOLDEN ST BETWEEN HOLDEN PL SW AND 31ST AVE SW                                         1\nS COLLEGE ST BETWEEN 22ND AVE S AND 23RD AVE S                                            1\nName: LOCATION, Length: 22991, dtype: int64"
                    },
                    "execution_count": 86,
                    "metadata": {},
                    "output_type": "execute_result"
                }
            ],
            "source": "df_brut[\"LOCATION\"].value_counts()"
        },
        {
            "cell_type": "code",
            "execution_count": 87,
            "metadata": {},
            "outputs": [
                {
                    "data": {
                        "text/plain": "Mid-Block (not related to intersection)              80579\nAt Intersection (intersection related)               61573\nMid-Block (but intersection related)                 21941\nDriveway Junction                                    10276\nAt Intersection (but not related to intersection)     1868\nRamp Junction                                          160\nUnknown                                                  8\nName: JUNCTIONTYPE, dtype: int64"
                    },
                    "execution_count": 87,
                    "metadata": {},
                    "output_type": "execute_result"
                }
            ],
            "source": "df_brut[\"JUNCTIONTYPE\"].value_counts()"
        },
        {
            "cell_type": "code",
            "execution_count": null,
            "metadata": {},
            "outputs": [],
            "source": ""
        }
    ],
    "metadata": {
        "kernelspec": {
            "display_name": "Python 3",
            "language": "python",
            "name": "python3"
        },
        "language_info": {
            "codemirror_mode": {
                "name": "ipython",
                "version": 3
            },
            "file_extension": ".py",
            "mimetype": "text/x-python",
            "name": "python",
            "nbconvert_exporter": "python",
            "pygments_lexer": "ipython3",
            "version": "3.7.1"
        }
    },
    "nbformat": 4,
    "nbformat_minor": 2
}
