{
 "cells": [
  {
   "cell_type": "markdown",
   "metadata": {},
   "source": [
    "# Import"
   ]
  },
  {
   "cell_type": "markdown",
   "metadata": {},
   "source": [
    "## Python"
   ]
  },
  {
   "cell_type": "code",
   "execution_count": 24,
   "metadata": {},
   "outputs": [],
   "source": [
    "import pandas as pd\n",
    "\n",
    "\n",
    "#Tricks to not show directory adress because of warnings, for final release\n",
    "import warnings\n",
    "\n",
    "warnings.filterwarnings(action='once')"
   ]
  },
  {
   "cell_type": "markdown",
   "metadata": {},
   "source": [
    "## Data"
   ]
  },
  {
   "cell_type": "code",
   "execution_count": 26,
   "metadata": {},
   "outputs": [],
   "source": [
    "url = 'https://raw.githubusercontent.com/SylvianMunier/IBM-Data-Science-capstone-project/master/Data-Collisions.csv'\n",
    "df = pd.read_csv(url)"
   ]
  },
  {
   "cell_type": "markdown",
   "metadata": {},
   "source": [
    "# Data cleaning "
   ]
  },
  {
   "cell_type": "code",
   "execution_count": 23,
   "metadata": {},
   "outputs": [],
   "source": [
    "# After some work on rough draft and analysis of the metadata, the following decision were made:\n",
    "# Keeping the column of interest:\n",
    "df_kept = df[[\"SEVERITYCODE\",\"ROADCOND\",\"LIGHTCOND\",\"JUNCTIONTYPE\"]]\n",
    "\n",
    "#Cleaning unusable lines:\n",
    "#Concerning the road condition:\n",
    "#For eventual need, every step is kept and saved into a special data frame.\n",
    "df2 = df_kept\n",
    "df3 = df2[(df2[\"ROADCOND\"]==\"Dry\")|(df2[\"ROADCOND\"]==\"Wet\") |\\\n",
    "          (df2[\"ROADCOND\"]==\"Ice\")|(df2[\"ROADCOND\"]==\"Snow/Slush\") | (df2[\"ROADCOND\"]==\"Standing Water\")]\n",
    "\n",
    "#Concerning the light condition:\n",
    "df4 = df3[(df3[\"LIGHTCOND\"]==\"Daylight\") | (df3[\"LIGHTCOND\"]==\"Dark - Street Lights On\") | \\\n",
    "          (df3[\"LIGHTCOND\"]==\"Dusk\") | (df3[\"LIGHTCOND\"]==\"Dawn\") | (df3[\"LIGHTCOND\"]==\"Dark - No Street Lights\") |\\\n",
    "          (df3[\"LIGHTCOND\"]==\"Dark Street Lights Off\")]\n",
    "\n",
    "#Concerning the junction type:\n",
    "df_cleaned = df4[(df4[\"JUNCTIONTYPE\"]==\"Mid-Block (not related to intersection)\") | \\\n",
    "        (df4[\"JUNCTIONTYPE\"]==\"At Intersection (intersection related)\") | \\\n",
    "        (df4[\"JUNCTIONTYPE\"]==\"Mid-Block (but intersection related)\") | \\\n",
    "        (df4[\"JUNCTIONTYPE\"]==\"Driveway Junction\") | \\\n",
    "        (df4[\"JUNCTIONTYPE\"]==\"At Intersection (but not related to intersection)\") | \\\n",
    "        (df4[\"JUNCTIONTYPE\"]==\"Ramp Junction\")]\n",
    "\n",
    "df_cleaned.to_csv(r'###\\GitHub\\IBM-Data-Science-capstone-project\\DataCleaned.csv',index=False)"
   ]
  }
 ],
 "metadata": {
  "kernelspec": {
   "display_name": "Python 3",
   "language": "python",
   "name": "python3"
  },
  "language_info": {
   "codemirror_mode": {
    "name": "ipython",
    "version": 3
   },
   "file_extension": ".py",
   "mimetype": "text/x-python",
   "name": "python",
   "nbconvert_exporter": "python",
   "pygments_lexer": "ipython3",
   "version": "3.7.1"
  }
 },
 "nbformat": 4,
 "nbformat_minor": 2
}
