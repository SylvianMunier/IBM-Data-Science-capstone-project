{
    "cells": [
        {
            "cell_type": "markdown",
            "metadata": {},
            "source": "With this set of data, it has been choosen to modelize the severity of accident with recard to the road condition, the luminosity and the type of junction. In this regard, the business partner is the security officer of the state. Knowing those few factor, the state can take some actions to reduce the severity of accident.\nIt has been choosen to train a KNN algorithm with cross validation set."
        }
    ],
    "metadata": {
        "kernelspec": {
            "display_name": "Python 3",
            "language": "python",
            "name": "python3"
        },
        "language_info": {
            "codemirror_mode": {
                "name": "ipython",
                "version": 3
            },
            "file_extension": ".py",
            "mimetype": "text/x-python",
            "name": "python",
            "nbconvert_exporter": "python",
            "pygments_lexer": "ipython3",
            "version": "3.7.1"
        }
    },
    "nbformat": 4,
    "nbformat_minor": 2
}